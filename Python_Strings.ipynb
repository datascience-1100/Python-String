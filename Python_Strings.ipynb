{
  "nbformat": 4,
  "nbformat_minor": 0,
  "metadata": {
    "colab": {
      "provenance": [],
      "authorship_tag": "ABX9TyPkrQYaVOBRn/LrHZF/PoNq",
      "include_colab_link": true
    },
    "kernelspec": {
      "name": "python3",
      "display_name": "Python 3"
    },
    "language_info": {
      "name": "python"
    }
  },
  "cells": [
    {
      "cell_type": "markdown",
      "metadata": {
        "id": "view-in-github",
        "colab_type": "text"
      },
      "source": [
        "<a href=\"https://colab.research.google.com/github/datascience-1100/Python-String/blob/main/Python_Strings.ipynb\" target=\"_parent\"><img src=\"https://colab.research.google.com/assets/colab-badge.svg\" alt=\"Open In Colab\"/></a>"
      ]
    },
    {
      "cell_type": "code",
      "execution_count": null,
      "metadata": {
        "id": "jDlTJteLs8Q5"
      },
      "outputs": [],
      "source": [
        "#Python Strings"
      ]
    },
    {
      "cell_type": "code",
      "source": [
        "mystring=\"DataScience\"\n",
        "print(type(mystring))"
      ],
      "metadata": {
        "id": "73PmJA0IUSaL"
      },
      "execution_count": null,
      "outputs": []
    },
    {
      "cell_type": "code",
      "source": [
        "mystring1=\"DataScience100\"\n",
        "print(type(mystring1))"
      ],
      "metadata": {
        "id": "jocCp4KdOsO4",
        "colab": {
          "base_uri": "https://localhost:8080/"
        },
        "outputId": "e50c18fc-b9d5-4887-aef0-ae9c544ec7c3"
      },
      "execution_count": null,
      "outputs": [
        {
          "output_type": "stream",
          "name": "stdout",
          "text": [
            "<class 'str'>\n"
          ]
        }
      ]
    },
    {
      "cell_type": "code",
      "source": [
        "mystring2=\"DataScience100@gmail.com\"\n",
        "print(type(mystring2))"
      ],
      "metadata": {
        "id": "zPaVUJhgOsaX",
        "colab": {
          "base_uri": "https://localhost:8080/"
        },
        "outputId": "4962e5ca-86ed-4768-b1c8-3748ccade477"
      },
      "execution_count": null,
      "outputs": [
        {
          "output_type": "stream",
          "name": "stdout",
          "text": [
            "<class 'str'>\n"
          ]
        }
      ]
    },
    {
      "cell_type": "code",
      "source": [
        "mystring3='1234'\n",
        "print(type(mystring3))"
      ],
      "metadata": {
        "id": "V7bFsBtxOsiL",
        "colab": {
          "base_uri": "https://localhost:8080/"
        },
        "outputId": "33f49768-fb0e-43bc-ff52-0ad5185b2aa7"
      },
      "execution_count": null,
      "outputs": [
        {
          "output_type": "stream",
          "name": "stdout",
          "text": [
            "<class 'str'>\n"
          ]
        }
      ]
    },
    {
      "cell_type": "code",
      "source": [
        "mystring4=1234\n",
        "print(type(mystring4))"
      ],
      "metadata": {
        "id": "wurEFc5QOslx",
        "colab": {
          "base_uri": "https://localhost:8080/"
        },
        "outputId": "fad84fbe-6737-4de9-e16a-3435b2b85426"
      },
      "execution_count": null,
      "outputs": [
        {
          "output_type": "stream",
          "name": "stdout",
          "text": [
            "<class 'int'>\n"
          ]
        }
      ]
    },
    {
      "cell_type": "code",
      "source": [
        "mystring= 'I love Data Science'\n",
        "print(mystring)\n",
        "mystring= \"I love Data Science\"\n",
        "print(mystring)"
      ],
      "metadata": {
        "id": "Hkjx2qIsOsvA",
        "colab": {
          "base_uri": "https://localhost:8080/"
        },
        "outputId": "ca90d8b4-568b-42bf-db58-8b10eacb3963"
      },
      "execution_count": null,
      "outputs": [
        {
          "output_type": "stream",
          "name": "stdout",
          "text": [
            "I love Data Science\n",
            "I love Data Science\n"
          ]
        }
      ]
    },
    {
      "cell_type": "code",
      "source": [
        "#multiline string\n",
        "mystring= '''I love Data Science'''\n",
        "print(mystring)\n",
        "mystring= \"\"\"I love Data Science\"\"\"\n",
        "print(mystring)"
      ],
      "metadata": {
        "id": "X9Bm_8xePanI"
      },
      "execution_count": null,
      "outputs": []
    },
    {
      "cell_type": "code",
      "source": [
        "#bydefault every input in Python is treated as a string\n",
        "mystring=int(input(\"Enter anything\"))\n",
        "print(mystring)\n",
        "print(type(mystring))"
      ],
      "metadata": {
        "colab": {
          "base_uri": "https://localhost:8080/"
        },
        "id": "bHGpDat1PdTt",
        "outputId": "a32bfd8d-23d7-4c86-b00b-64b7fa9703ec"
      },
      "execution_count": null,
      "outputs": [
        {
          "output_type": "stream",
          "name": "stdout",
          "text": [
            "Enter anything10\n",
            "10\n",
            "<class 'int'>\n"
          ]
        }
      ]
    },
    {
      "cell_type": "code",
      "source": [
        "#Indexing\n",
        "#Positive Indexing/Zero based Indexing\n",
        "mystring=\"Python\"\n",
        "mystring[0]\n",
        "mystring[2]"
      ],
      "metadata": {
        "id": "nMz6RZK-JSeC",
        "colab": {
          "base_uri": "https://localhost:8080/",
          "height": 35
        },
        "outputId": "25cc0acf-57d7-42ba-a8c1-3978a4faa91b"
      },
      "execution_count": null,
      "outputs": [
        {
          "output_type": "execute_result",
          "data": {
            "text/plain": [
              "'t'"
            ],
            "application/vnd.google.colaboratory.intrinsic+json": {
              "type": "string"
            }
          },
          "metadata": {},
          "execution_count": 23
        }
      ]
    },
    {
      "cell_type": "code",
      "source": [
        "#Negative Indexing\n",
        "mystring[-3]"
      ],
      "metadata": {
        "colab": {
          "base_uri": "https://localhost:8080/",
          "height": 35
        },
        "id": "s5KaWFJ8PmUH",
        "outputId": "aace3e4a-a26a-4d66-cb87-b730ebd94f9c"
      },
      "execution_count": null,
      "outputs": [
        {
          "output_type": "execute_result",
          "data": {
            "text/plain": [
              "'h'"
            ],
            "application/vnd.google.colaboratory.intrinsic+json": {
              "type": "string"
            }
          },
          "metadata": {},
          "execution_count": 26
        }
      ]
    },
    {
      "cell_type": "code",
      "source": [
        "mystring[5]"
      ],
      "metadata": {
        "colab": {
          "base_uri": "https://localhost:8080/",
          "height": 35
        },
        "id": "T5RCLhMAWbsH",
        "outputId": "d2fbfbba-fcc2-408c-c9a2-614709c55b41"
      },
      "execution_count": null,
      "outputs": [
        {
          "output_type": "execute_result",
          "data": {
            "text/plain": [
              "'n'"
            ],
            "application/vnd.google.colaboratory.intrinsic+json": {
              "type": "string"
            }
          },
          "metadata": {},
          "execution_count": 27
        }
      ]
    },
    {
      "cell_type": "code",
      "source": [
        "mystring[-1]"
      ],
      "metadata": {
        "colab": {
          "base_uri": "https://localhost:8080/",
          "height": 35
        },
        "id": "78raKasRWfFl",
        "outputId": "574a0631-cce5-452f-8417-b7a20cfe4e85"
      },
      "execution_count": null,
      "outputs": [
        {
          "output_type": "execute_result",
          "data": {
            "text/plain": [
              "'n'"
            ],
            "application/vnd.google.colaboratory.intrinsic+json": {
              "type": "string"
            }
          },
          "metadata": {},
          "execution_count": 28
        }
      ]
    },
    {
      "cell_type": "code",
      "source": [
        "#Slicing\n",
        "#1. Basic Slicing\n",
        "mystring[1:4]\n",
        "#syntax[start index:end index]"
      ],
      "metadata": {
        "colab": {
          "base_uri": "https://localhost:8080/",
          "height": 35
        },
        "id": "h0zuQMzkPoty",
        "outputId": "3e83f891-22ec-47dc-f47f-377b8d0ddd26"
      },
      "execution_count": null,
      "outputs": [
        {
          "output_type": "execute_result",
          "data": {
            "text/plain": [
              "'yth'"
            ],
            "application/vnd.google.colaboratory.intrinsic+json": {
              "type": "string"
            }
          },
          "metadata": {},
          "execution_count": 29
        }
      ]
    },
    {
      "cell_type": "code",
      "source": [
        "mystring[1:]"
      ],
      "metadata": {
        "colab": {
          "base_uri": "https://localhost:8080/",
          "height": 35
        },
        "id": "LnYVN3kbQYfZ",
        "outputId": "6ba161b7-4508-472c-9341-86adf30eff90"
      },
      "execution_count": null,
      "outputs": [
        {
          "output_type": "execute_result",
          "data": {
            "text/plain": [
              "'ython'"
            ],
            "application/vnd.google.colaboratory.intrinsic+json": {
              "type": "string"
            }
          },
          "metadata": {},
          "execution_count": 31
        }
      ]
    },
    {
      "cell_type": "code",
      "source": [
        "mystring[1:5]"
      ],
      "metadata": {
        "colab": {
          "base_uri": "https://localhost:8080/",
          "height": 35
        },
        "id": "wLg-eedsQA-5",
        "outputId": "84793c02-6616-4bd1-8045-5bd2f48e6a4c"
      },
      "execution_count": null,
      "outputs": [
        {
          "output_type": "execute_result",
          "data": {
            "text/plain": [
              "'ytho'"
            ],
            "application/vnd.google.colaboratory.intrinsic+json": {
              "type": "string"
            }
          },
          "metadata": {},
          "execution_count": 32
        }
      ]
    },
    {
      "cell_type": "code",
      "source": [
        "#Omitting the end\n",
        "mystring[1:]"
      ],
      "metadata": {
        "id": "aMlDPl_aQNvv"
      },
      "execution_count": null,
      "outputs": []
    },
    {
      "cell_type": "code",
      "source": [
        "#Omitting the start\n",
        "mystring[:]"
      ],
      "metadata": {
        "colab": {
          "base_uri": "https://localhost:8080/",
          "height": 35
        },
        "id": "O6ysW985QcGp",
        "outputId": "49ce3b3a-5357-4a5b-c6cd-bb39eaba24fb"
      },
      "execution_count": null,
      "outputs": [
        {
          "output_type": "execute_result",
          "data": {
            "text/plain": [
              "'Python'"
            ],
            "application/vnd.google.colaboratory.intrinsic+json": {
              "type": "string"
            }
          },
          "metadata": {},
          "execution_count": 34
        }
      ]
    },
    {
      "cell_type": "code",
      "source": [
        "#Slicing with a step\n",
        "mystring[::2]"
      ],
      "metadata": {
        "colab": {
          "base_uri": "https://localhost:8080/",
          "height": 35
        },
        "id": "fRL3LS5XQerg",
        "outputId": "20cbf87f-abca-4eb0-8a1b-d9d562c34203"
      },
      "execution_count": null,
      "outputs": [
        {
          "output_type": "execute_result",
          "data": {
            "text/plain": [
              "'Pto'"
            ],
            "application/vnd.google.colaboratory.intrinsic+json": {
              "type": "string"
            }
          },
          "metadata": {},
          "execution_count": 37
        }
      ]
    },
    {
      "cell_type": "code",
      "source": [
        "mystring[1:9:3]"
      ],
      "metadata": {
        "colab": {
          "base_uri": "https://localhost:8080/",
          "height": 35
        },
        "id": "QZepZ1UEQeu9",
        "outputId": "fead69af-b19e-4ddd-d1d3-0c6b1abff9c5"
      },
      "execution_count": null,
      "outputs": [
        {
          "output_type": "execute_result",
          "data": {
            "text/plain": [
              "'yo'"
            ],
            "application/vnd.google.colaboratory.intrinsic+json": {
              "type": "string"
            }
          },
          "metadata": {},
          "execution_count": 38
        }
      ]
    },
    {
      "cell_type": "code",
      "source": [
        "mystring[4]"
      ],
      "metadata": {
        "colab": {
          "base_uri": "https://localhost:8080/",
          "height": 35
        },
        "id": "Zy5fI0nQYNrF",
        "outputId": "cb5f1d28-bd8c-4469-b8ae-f5034f68f5eb"
      },
      "execution_count": null,
      "outputs": [
        {
          "output_type": "execute_result",
          "data": {
            "text/plain": [
              "'o'"
            ],
            "application/vnd.google.colaboratory.intrinsic+json": {
              "type": "string"
            }
          },
          "metadata": {},
          "execution_count": 40
        }
      ]
    },
    {
      "cell_type": "code",
      "source": [
        "#Slicing using Negative indexing\n",
        "#Basic Slicing\n",
        "mystring[-4:-1]"
      ],
      "metadata": {
        "colab": {
          "base_uri": "https://localhost:8080/",
          "height": 35
        },
        "id": "5E1bkQP1Qe1R",
        "outputId": "8fee78fd-b633-46be-bc75-3c6ebef09d59"
      },
      "execution_count": null,
      "outputs": [
        {
          "output_type": "execute_result",
          "data": {
            "text/plain": [
              "'tho'"
            ],
            "application/vnd.google.colaboratory.intrinsic+json": {
              "type": "string"
            }
          },
          "metadata": {},
          "execution_count": 41
        }
      ]
    },
    {
      "cell_type": "code",
      "source": [
        "mystring[-6:-2]"
      ],
      "metadata": {
        "colab": {
          "base_uri": "https://localhost:8080/",
          "height": 35
        },
        "id": "qiRDb9zdYqzd",
        "outputId": "6e7493e3-2daf-4798-a4ac-a7cf1242f7a5"
      },
      "execution_count": null,
      "outputs": [
        {
          "output_type": "execute_result",
          "data": {
            "text/plain": [
              "'Pyth'"
            ],
            "application/vnd.google.colaboratory.intrinsic+json": {
              "type": "string"
            }
          },
          "metadata": {},
          "execution_count": 42
        }
      ]
    },
    {
      "cell_type": "code",
      "source": [
        "#Slicing with a step size\n",
        "mystring[:-3:3]"
      ],
      "metadata": {
        "colab": {
          "base_uri": "https://localhost:8080/",
          "height": 35
        },
        "id": "Gj8_5rxbRt_p",
        "outputId": "160aed63-a57a-40f8-e3ad-b0b7426d6706"
      },
      "execution_count": null,
      "outputs": [
        {
          "output_type": "execute_result",
          "data": {
            "text/plain": [
              "'P'"
            ],
            "application/vnd.google.colaboratory.intrinsic+json": {
              "type": "string"
            }
          },
          "metadata": {},
          "execution_count": 46
        }
      ]
    },
    {
      "cell_type": "code",
      "source": [
        "mystring= \"Love Python\"\n",
        "mystring[-10::4]\n"
      ],
      "metadata": {
        "colab": {
          "base_uri": "https://localhost:8080/",
          "height": 35
        },
        "id": "P64QCN85Zsyk",
        "outputId": "8f6dd3e3-b08e-4686-f890-ca9fe9ae069d"
      },
      "execution_count": null,
      "outputs": [
        {
          "output_type": "execute_result",
          "data": {
            "text/plain": [
              "'oPo'"
            ],
            "application/vnd.google.colaboratory.intrinsic+json": {
              "type": "string"
            }
          },
          "metadata": {},
          "execution_count": 55
        }
      ]
    },
    {
      "cell_type": "code",
      "source": [
        "#Reverse a string\n",
        "mystring[-1:-7:-1]"
      ],
      "metadata": {
        "colab": {
          "base_uri": "https://localhost:8080/",
          "height": 35
        },
        "id": "MxtS2YqQeOTn",
        "outputId": "38e9f7e3-53c8-4e18-cf99-506e3be67475"
      },
      "execution_count": null,
      "outputs": [
        {
          "output_type": "execute_result",
          "data": {
            "text/plain": [
              "'nohtyP'"
            ],
            "application/vnd.google.colaboratory.intrinsic+json": {
              "type": "string"
            }
          },
          "metadata": {},
          "execution_count": 58
        }
      ]
    },
    {
      "cell_type": "code",
      "source": [
        "#Reverse the whole string\n",
        "mystring[::-1]\n"
      ],
      "metadata": {
        "colab": {
          "base_uri": "https://localhost:8080/",
          "height": 35
        },
        "id": "ppI7_KWCRqCs",
        "outputId": "0ebd3f80-e239-4309-9769-5f07917bdf1c"
      },
      "execution_count": null,
      "outputs": [
        {
          "output_type": "execute_result",
          "data": {
            "text/plain": [
              "'Love Python'"
            ],
            "application/vnd.google.colaboratory.intrinsic+json": {
              "type": "string"
            }
          },
          "metadata": {},
          "execution_count": 65
        }
      ]
    },
    {
      "cell_type": "code",
      "source": [
        "#Why do we need negative indexing??"
      ],
      "metadata": {
        "id": "O68RvYXQRswz"
      },
      "execution_count": null,
      "outputs": []
    },
    {
      "cell_type": "code",
      "source": [
        "start_index=int(input(\"Enter the start index\"))\n",
        "end_index=int(input(\"Enter the end index\"))\n",
        "mystring[start_index:end_index]"
      ],
      "metadata": {
        "colab": {
          "base_uri": "https://localhost:8080/",
          "height": 70
        },
        "id": "m3gFz4Wefxj1",
        "outputId": "3f4e04ad-2804-4159-ab64-5df769af181b"
      },
      "execution_count": null,
      "outputs": [
        {
          "name": "stdout",
          "output_type": "stream",
          "text": [
            "Enter the start index1\n",
            "Enter the end index4\n"
          ]
        },
        {
          "output_type": "execute_result",
          "data": {
            "text/plain": [
              "'ove'"
            ],
            "application/vnd.google.colaboratory.intrinsic+json": {
              "type": "string"
            }
          },
          "metadata": {},
          "execution_count": 67
        }
      ]
    },
    {
      "cell_type": "code",
      "source": [],
      "metadata": {
        "id": "yTwBYCoKfxne"
      },
      "execution_count": null,
      "outputs": []
    },
    {
      "cell_type": "code",
      "source": [
        "#Immutability- a string can never be edited\n",
        "#Editing a String\n",
        "str1=\"I love Python\"\n",
        "str1[0]='u'\n",
        "print(str1)\n"
      ],
      "metadata": {
        "id": "PSfMaNgWvWIn",
        "colab": {
          "base_uri": "https://localhost:8080/",
          "height": 193
        },
        "outputId": "7c7d4ad1-f432-4bad-c7e3-36609f036f39"
      },
      "execution_count": 7,
      "outputs": [
        {
          "output_type": "error",
          "ename": "TypeError",
          "evalue": "'str' object does not support item assignment",
          "traceback": [
            "\u001b[0;31m---------------------------------------------------------------------------\u001b[0m",
            "\u001b[0;31mTypeError\u001b[0m                                 Traceback (most recent call last)",
            "\u001b[0;32m<ipython-input-7-93656908533e>\u001b[0m in \u001b[0;36m<cell line: 3>\u001b[0;34m()\u001b[0m\n\u001b[1;32m      1\u001b[0m \u001b[0;31m#Editing a String\u001b[0m\u001b[0;34m\u001b[0m\u001b[0;34m\u001b[0m\u001b[0m\n\u001b[1;32m      2\u001b[0m \u001b[0mstr1\u001b[0m\u001b[0;34m=\u001b[0m\u001b[0;34m\"I love Python\"\u001b[0m\u001b[0;34m\u001b[0m\u001b[0;34m\u001b[0m\u001b[0m\n\u001b[0;32m----> 3\u001b[0;31m \u001b[0mstr1\u001b[0m\u001b[0;34m[\u001b[0m\u001b[0;36m0\u001b[0m\u001b[0;34m]\u001b[0m\u001b[0;34m=\u001b[0m\u001b[0;34m'u'\u001b[0m\u001b[0;34m\u001b[0m\u001b[0;34m\u001b[0m\u001b[0m\n\u001b[0m\u001b[1;32m      4\u001b[0m \u001b[0mprint\u001b[0m\u001b[0;34m(\u001b[0m\u001b[0mstr1\u001b[0m\u001b[0;34m)\u001b[0m\u001b[0;34m\u001b[0m\u001b[0;34m\u001b[0m\u001b[0m\n",
            "\u001b[0;31mTypeError\u001b[0m: 'str' object does not support item assignment"
          ]
        }
      ]
    },
    {
      "cell_type": "code",
      "source": [
        "#Deleting a String\n",
        "print(str1)\n",
        "del str1\n",
        "print(str1)"
      ],
      "metadata": {
        "id": "iyKMd2DovYQC",
        "colab": {
          "base_uri": "https://localhost:8080/",
          "height": 193
        },
        "outputId": "ba569f3f-bc15-4806-aa24-7a5a6854dc37"
      },
      "execution_count": 9,
      "outputs": [
        {
          "output_type": "stream",
          "name": "stdout",
          "text": [
            "I love Python\n"
          ]
        },
        {
          "output_type": "error",
          "ename": "NameError",
          "evalue": "name 'str1' is not defined",
          "traceback": [
            "\u001b[0;31m---------------------------------------------------------------------------\u001b[0m",
            "\u001b[0;31mNameError\u001b[0m                                 Traceback (most recent call last)",
            "\u001b[0;32m<ipython-input-9-2485d509137d>\u001b[0m in \u001b[0;36m<cell line: 4>\u001b[0;34m()\u001b[0m\n\u001b[1;32m      2\u001b[0m \u001b[0mprint\u001b[0m\u001b[0;34m(\u001b[0m\u001b[0mstr1\u001b[0m\u001b[0;34m)\u001b[0m\u001b[0;34m\u001b[0m\u001b[0;34m\u001b[0m\u001b[0m\n\u001b[1;32m      3\u001b[0m \u001b[0;32mdel\u001b[0m \u001b[0mstr1\u001b[0m\u001b[0;34m\u001b[0m\u001b[0;34m\u001b[0m\u001b[0m\n\u001b[0;32m----> 4\u001b[0;31m \u001b[0mprint\u001b[0m\u001b[0;34m(\u001b[0m\u001b[0mstr1\u001b[0m\u001b[0;34m)\u001b[0m\u001b[0;34m\u001b[0m\u001b[0;34m\u001b[0m\u001b[0m\n\u001b[0m",
            "\u001b[0;31mNameError\u001b[0m: name 'str1' is not defined"
          ]
        }
      ]
    },
    {
      "cell_type": "code",
      "source": [
        "#Operators on String\n"
      ],
      "metadata": {
        "id": "-QL_wgFIvYVj"
      },
      "execution_count": null,
      "outputs": []
    },
    {
      "cell_type": "code",
      "source": [
        "#Arithmetic Operator- +, *\n",
        "mystring1=\"I love\"\n",
        "mystring2=\"Python\"\n",
        "print(mystring1 + mystring2)\n",
        "print(mystring1*3)"
      ],
      "metadata": {
        "id": "Hhj1kGoSvYZO",
        "colab": {
          "base_uri": "https://localhost:8080/"
        },
        "outputId": "2ece711b-65d7-4e98-f8a6-e3a0bd2dba4e"
      },
      "execution_count": 10,
      "outputs": [
        {
          "output_type": "stream",
          "name": "stdout",
          "text": [
            "I lovePython\n",
            "I loveI loveI love\n"
          ]
        }
      ]
    },
    {
      "cell_type": "code",
      "source": [
        "#Appending String by additional Operator"
      ],
      "metadata": {
        "id": "Nc7CJsNj_8MX"
      },
      "execution_count": null,
      "outputs": []
    },
    {
      "cell_type": "code",
      "source": [],
      "metadata": {
        "id": "QiEz7UDx_89M"
      },
      "execution_count": null,
      "outputs": []
    },
    {
      "cell_type": "code",
      "source": [
        "#Relational Operators\n",
        "str1=\"Love\"\n",
        "str2=\"lython\"\n",
        "print(str1<str2)"
      ],
      "metadata": {
        "id": "CCAIc-Q1vl1v",
        "colab": {
          "base_uri": "https://localhost:8080/"
        },
        "outputId": "2d4bbe79-311f-46da-9492-afa70fa41291"
      },
      "execution_count": 18,
      "outputs": [
        {
          "output_type": "stream",
          "name": "stdout",
          "text": [
            "True\n"
          ]
        }
      ]
    },
    {
      "cell_type": "code",
      "source": [],
      "metadata": {
        "id": "2vaOTzZbvl5Q"
      },
      "execution_count": null,
      "outputs": []
    },
    {
      "cell_type": "code",
      "source": [
        "#Membership Operator\n",
        "in\n",
        "Not in"
      ],
      "metadata": {
        "id": "QGqgQmH-voYV"
      },
      "execution_count": null,
      "outputs": []
    },
    {
      "cell_type": "code",
      "source": [
        "a=['apple', 'banana', 'jack fruit', 'grapes']\n",
        "if 'apple' not in a:\n",
        "   print(\"apple is a member\")\n",
        "else:\n",
        "  print(\"not a member\")"
      ],
      "metadata": {
        "id": "SuuhYu5nvob6",
        "colab": {
          "base_uri": "https://localhost:8080/"
        },
        "outputId": "2ac58fb7-6335-441d-988b-10e3f27c73f3"
      },
      "execution_count": 21,
      "outputs": [
        {
          "output_type": "stream",
          "name": "stdout",
          "text": [
            "not a member\n"
          ]
        }
      ]
    },
    {
      "cell_type": "markdown",
      "source": [
        "1. Arithmetic Operator- +,*\n",
        "2. All the relational operators\n",
        "3. Membership Operators"
      ],
      "metadata": {
        "id": "tIcTgMuxMsp7"
      }
    },
    {
      "cell_type": "code",
      "source": [
        "#Basic Functions"
      ],
      "metadata": {
        "id": "YTUf4GShvw2g"
      },
      "execution_count": null,
      "outputs": []
    },
    {
      "cell_type": "code",
      "source": [
        "#len()\n",
        "str1= \"I love Python\"\n",
        "len(str1)"
      ],
      "metadata": {
        "id": "LiKfdlxyvw5-",
        "colab": {
          "base_uri": "https://localhost:8080/"
        },
        "outputId": "2bafa9dc-a38a-435a-edca-23403bd48ef1"
      },
      "execution_count": 23,
      "outputs": [
        {
          "output_type": "execute_result",
          "data": {
            "text/plain": [
              "13"
            ]
          },
          "metadata": {},
          "execution_count": 23
        }
      ]
    },
    {
      "cell_type": "code",
      "source": [],
      "metadata": {
        "id": "JAxRQGA-vw9j"
      },
      "execution_count": null,
      "outputs": []
    },
    {
      "cell_type": "code",
      "source": [
        "#max()\n"
      ],
      "metadata": {
        "id": "bARIjSDcv3lc"
      },
      "execution_count": null,
      "outputs": []
    },
    {
      "cell_type": "code",
      "source": [
        "a=['apple', 'banana', 'jack fruit', 'grapes']\n",
        "print(max(a))"
      ],
      "metadata": {
        "id": "LL54M4Htv3sB",
        "colab": {
          "base_uri": "https://localhost:8080/"
        },
        "outputId": "4fa8c54e-53e1-4679-e199-32c55f94172e"
      },
      "execution_count": 24,
      "outputs": [
        {
          "output_type": "stream",
          "name": "stdout",
          "text": [
            "jack fruit\n"
          ]
        }
      ]
    },
    {
      "cell_type": "code",
      "source": [
        "#min()\n",
        "print(min(a))"
      ],
      "metadata": {
        "id": "L1QOaDj5v7mn",
        "colab": {
          "base_uri": "https://localhost:8080/"
        },
        "outputId": "1151672b-3e37-4252-d750-d87d0b31d968"
      },
      "execution_count": 25,
      "outputs": [
        {
          "output_type": "stream",
          "name": "stdout",
          "text": [
            "apple\n"
          ]
        }
      ]
    },
    {
      "cell_type": "code",
      "source": [],
      "metadata": {
        "id": "V3nrhUPUv7qK"
      },
      "execution_count": null,
      "outputs": []
    },
    {
      "cell_type": "code",
      "source": [
        "#sorted()\n",
        "str1='PYTHON'\n",
        "print(sorted(str1))"
      ],
      "metadata": {
        "id": "u2g12H3lv71W",
        "colab": {
          "base_uri": "https://localhost:8080/"
        },
        "outputId": "dca5f77e-69f5-455f-e94e-98c16a8305f8"
      },
      "execution_count": 26,
      "outputs": [
        {
          "output_type": "stream",
          "name": "stdout",
          "text": [
            "['H', 'N', 'O', 'P', 'T', 'Y']\n"
          ]
        }
      ]
    },
    {
      "cell_type": "code",
      "source": [
        "#capitalize()\n",
        "str1=\"i love python\"\n",
        "print(str1.capitalize())"
      ],
      "metadata": {
        "id": "34pjbWzUwF3C",
        "colab": {
          "base_uri": "https://localhost:8080/"
        },
        "outputId": "1073afd4-a9c7-43a8-a16e-bf25d17a433d"
      },
      "execution_count": 27,
      "outputs": [
        {
          "output_type": "stream",
          "name": "stdout",
          "text": [
            "I love python\n"
          ]
        }
      ]
    },
    {
      "cell_type": "code",
      "source": [
        "#title()\n",
        "str1=\"i love python\"\n",
        "print(str1.title())"
      ],
      "metadata": {
        "colab": {
          "base_uri": "https://localhost:8080/"
        },
        "id": "g9xQAq75QDIs",
        "outputId": "97c11675-d986-4994-9c64-85480ed81b4e"
      },
      "execution_count": 28,
      "outputs": [
        {
          "output_type": "stream",
          "name": "stdout",
          "text": [
            "I Love Python\n"
          ]
        }
      ]
    },
    {
      "cell_type": "code",
      "source": [
        "#upper()\n",
        "str1=\"i love python\"\n",
        "print(str1.upper())\n"
      ],
      "metadata": {
        "colab": {
          "base_uri": "https://localhost:8080/"
        },
        "id": "A3Dwg9qEQDLm",
        "outputId": "c2066db7-4928-449f-a10e-2534689754db"
      },
      "execution_count": 29,
      "outputs": [
        {
          "output_type": "stream",
          "name": "stdout",
          "text": [
            "I LOVE PYTHON\n"
          ]
        }
      ]
    },
    {
      "cell_type": "code",
      "source": [],
      "metadata": {
        "id": "yab60LEjQDPH"
      },
      "execution_count": null,
      "outputs": []
    },
    {
      "cell_type": "code",
      "source": [
        "#lower()\n",
        "str2=\"I LOVE PYThon\"\n",
        "print(str2.lower())\n",
        "print(str2)"
      ],
      "metadata": {
        "id": "VMhgPg9HwF6d",
        "colab": {
          "base_uri": "https://localhost:8080/"
        },
        "outputId": "04281f0d-86ce-4f5e-8d7c-8263ef864a87"
      },
      "execution_count": 33,
      "outputs": [
        {
          "output_type": "stream",
          "name": "stdout",
          "text": [
            "i love python\n",
            "I LOVE PYThon\n"
          ]
        }
      ]
    },
    {
      "cell_type": "code",
      "source": [],
      "metadata": {
        "id": "O2YJ4B0hwJpu"
      },
      "execution_count": null,
      "outputs": []
    },
    {
      "cell_type": "code",
      "source": [
        "#swapcase()\n",
        "str1=\"I love pytHON\"\n",
        "print(str1.swapcase())"
      ],
      "metadata": {
        "id": "rj9fCDkSwJtF",
        "colab": {
          "base_uri": "https://localhost:8080/"
        },
        "outputId": "beec54c6-c738-481c-af30-25551be58002"
      },
      "execution_count": 34,
      "outputs": [
        {
          "output_type": "stream",
          "name": "stdout",
          "text": [
            "i LOVE PYThon\n"
          ]
        }
      ]
    },
    {
      "cell_type": "code",
      "source": [
        "#count\n",
        "str1=\"I love love Python\"\n",
        "print(str1.count(\"love\"))"
      ],
      "metadata": {
        "id": "HRjRvxYPwMDd",
        "colab": {
          "base_uri": "https://localhost:8080/"
        },
        "outputId": "2a715c95-9979-45b2-9c51-f1131d60ddf5"
      },
      "execution_count": 37,
      "outputs": [
        {
          "output_type": "stream",
          "name": "stdout",
          "text": [
            "2\n"
          ]
        }
      ]
    },
    {
      "cell_type": "code",
      "source": [
        "#find- gives the index position of any given word\n",
        "str1=\"I love Python\"\n",
        "print(str1.find(\"Python\"))\n"
      ],
      "metadata": {
        "id": "d1zGET7fwWy6",
        "colab": {
          "base_uri": "https://localhost:8080/"
        },
        "outputId": "e1b4544d-2ac2-4565-b36f-560d40829f97"
      },
      "execution_count": 40,
      "outputs": [
        {
          "output_type": "stream",
          "name": "stdout",
          "text": [
            "7\n"
          ]
        }
      ]
    },
    {
      "cell_type": "code",
      "source": [
        "#startswith\n",
        "str1= \"I love Python\"\n",
        "print(str1. startswith(\"I love\"))"
      ],
      "metadata": {
        "id": "caz5ioCKwW5b",
        "colab": {
          "base_uri": "https://localhost:8080/"
        },
        "outputId": "a75a3bc3-78a4-4f66-bcce-b5a1b0433724"
      },
      "execution_count": 43,
      "outputs": [
        {
          "output_type": "stream",
          "name": "stdout",
          "text": [
            "True\n"
          ]
        }
      ]
    },
    {
      "cell_type": "code",
      "source": [
        "#endswith\n",
        "str1= \"I love Python\"\n",
        "print(str1.endswith(\"python\"))"
      ],
      "metadata": {
        "colab": {
          "base_uri": "https://localhost:8080/"
        },
        "id": "fpJAkTpuVj6j",
        "outputId": "56f7548c-1fd6-49b2-e4e4-7118f1aa6f36"
      },
      "execution_count": 49,
      "outputs": [
        {
          "output_type": "stream",
          "name": "stdout",
          "text": [
            "False\n"
          ]
        }
      ]
    },
    {
      "cell_type": "code",
      "source": [
        "#isalnum()- alphabet numeric\n",
        "str1= \"100\"\n",
        "print(str1.isalnum())"
      ],
      "metadata": {
        "colab": {
          "base_uri": "https://localhost:8080/"
        },
        "id": "VzjNclmRWpdh",
        "outputId": "10a38070-ec34-4d45-c947-906e5fc9f191"
      },
      "execution_count": 53,
      "outputs": [
        {
          "output_type": "stream",
          "name": "stdout",
          "text": [
            "True\n"
          ]
        }
      ]
    },
    {
      "cell_type": "code",
      "source": [],
      "metadata": {
        "id": "PhAPlH7xwdqS"
      },
      "execution_count": null,
      "outputs": []
    },
    {
      "cell_type": "code",
      "source": [
        "#isdigit()\n",
        "str1= \"1009937986327845237\"\n",
        "print(str1.isdigit())"
      ],
      "metadata": {
        "id": "O8amFhSewdtu",
        "colab": {
          "base_uri": "https://localhost:8080/"
        },
        "outputId": "3339e76f-10c4-4d83-8bd8-b01d7f357df3"
      },
      "execution_count": 55,
      "outputs": [
        {
          "output_type": "stream",
          "name": "stdout",
          "text": [
            "True\n"
          ]
        }
      ]
    },
    {
      "cell_type": "code",
      "source": [],
      "metadata": {
        "id": "ymqNzwTZwd00"
      },
      "execution_count": null,
      "outputs": []
    },
    {
      "cell_type": "code",
      "source": [
        "#split()\n",
        "str1= \"I, love/ Python so, much\"\n",
        "print(str1.split(' '))"
      ],
      "metadata": {
        "id": "wutAqCfzwg_O",
        "colab": {
          "base_uri": "https://localhost:8080/"
        },
        "outputId": "f2965e8d-1003-4c4b-db1a-eb9e6662711b"
      },
      "execution_count": 58,
      "outputs": [
        {
          "output_type": "stream",
          "name": "stdout",
          "text": [
            "['I,', 'love/', 'Python', 'so,', 'much']\n"
          ]
        }
      ]
    },
    {
      "cell_type": "code",
      "source": [
        "#join()\n",
        "str1=['I ', 'love', 'DataScience']\n",
        "sentence= '0'.join(str1)\n",
        "print(sentence)"
      ],
      "metadata": {
        "id": "OmGZPZ-1wofx",
        "colab": {
          "base_uri": "https://localhost:8080/"
        },
        "outputId": "05a36b36-aec9-4302-df4c-fcb20b190621"
      },
      "execution_count": 62,
      "outputs": [
        {
          "output_type": "stream",
          "name": "stdout",
          "text": [
            "I 0love0DataScience\n"
          ]
        }
      ]
    },
    {
      "cell_type": "code",
      "source": [
        "#replace\n",
        "str1=\"I love Python\"\n",
        "print(str1.replace(\"I\", \"He\"))\n",
        "print(str1)"
      ],
      "metadata": {
        "colab": {
          "base_uri": "https://localhost:8080/"
        },
        "id": "6u_MT9e2ZqVY",
        "outputId": "020d9816-6e45-42b9-eb57-e0f5a2260f5c"
      },
      "execution_count": 64,
      "outputs": [
        {
          "output_type": "stream",
          "name": "stdout",
          "text": [
            "He love Python\n",
            "I love Python\n"
          ]
        }
      ]
    },
    {
      "cell_type": "code",
      "source": [
        "#strip\n",
        "str1= \"       I     love    Python       \"\n",
        "print(str1.strip())"
      ],
      "metadata": {
        "colab": {
          "base_uri": "https://localhost:8080/"
        },
        "id": "7qWxGtN7Zqb6",
        "outputId": "28d3f4cc-a931-49c4-bb67-b3146ed9436e"
      },
      "execution_count": 65,
      "outputs": [
        {
          "output_type": "stream",
          "name": "stdout",
          "text": [
            "I     love    Python\n"
          ]
        }
      ]
    },
    {
      "cell_type": "code",
      "source": [
        "''''\n",
        "1. `capitalize()`: Converts the first character to uppercase.\n",
        "2. `casefold()`: Converts string into lowercase.\n",
        "3. `center(width[, fillchar])`: Returns a centered string.\n",
        "4. `count(sub[, start[, end]])`: Returns the number of occurrences of substring sub in the range [start, end].\n",
        "5. `encode(encoding='utf-8', errors='strict')`: Returns encoded string version of string.\n",
        "6. `endswith(suffix[, start[, end]])`: Checks if string ends with the specified suffix.\n",
        "7. `expandtabs(tabsize=8)`: Replaces tabs with spaces.\n",
        "8. `find(sub[, start[, end]])`: Returns the lowest index of substring sub.\n",
        "9. `format(*args, **kwargs)`: Formats string into a nicer output.\n",
        "10. `format_map(mapping)`: Formats the string using the mapping.\n",
        "11. `index(sub[, start[, end]])`: Like find(), but raises ValueError if not found.\n",
        "12. `isalnum()`: Returns True if all characters are alphanumeric.\n",
        "13. `isalpha()`: Returns True if all characters are alphabetic.\n",
        "14. `isascii()`: Returns True if all characters are ASCII.\n",
        "15. `isdecimal()`: Returns True if all characters are decimals.\n",
        "16. `isdigit()`: Returns True if all characters are digits.\n",
        "17. `isidentifier()`: Returns True if the string is a valid identifier.\n",
        "18. `islower()`: Returns True if all characters are lowercase.\n",
        "19. `isnumeric()`: Returns True if all characters are numeric.\n",
        "20. `isprintable()`: Returns True if all characters are printable.\n",
        "21. `isspace()`: Returns True if all characters are whitespace.\n",
        "22. `istitle()`: Returns True if the string is a titlecased string.\n",
        "23. `isupper()`: Returns True if all characters are uppercase.\n",
        "24. `join(iterable)`: Joins elements of an iterable with string as separator.\n",
        "25. `ljust(width[, fillchar])`: Returns a left-justified string.\n",
        "26. `lower()`: Converts all characters to lowercase.\n",
        "27. `lstrip([chars])`: Removes leading characters.\n",
        "28. `maketrans(x[, y[, z]])`: Returns a translation table.\n",
        "29. `partition(sep)`: Returns a tuple where string is parted into three parts.\n",
        "30. `replace(old, new[, count])`: Replaces occurrences of old with new.\n",
        "31. `rfind(sub[, start[, end]])`: Returns the highest index of substring sub.\n",
        "32. `rindex(sub[, start[, end]])`: Like rfind(), but raises ValueError if not found.\n",
        "33. `rjust(width[, fillchar])`: Returns a right-justified string.\n",
        "34. `rpartition(sep)`: Returns a tuple where string is parted into three parts.\n",
        "35. `rsplit([sep[, maxsplit]])`: Splits string from the right.\n",
        "36. `rstrip([chars])`: Removes trailing characters.\n",
        "37. `split([sep[, maxsplit]])`: Splits the string at the specified separator.\n",
        "38. `splitlines([keepends])`: Splits the string at line breaks.\n",
        "39. `startswith(prefix[, start[, end]])`: Checks if string starts with the specified prefix.\n",
        "40. `strip([chars])`: Removes leading and trailing characters.\n",
        "41. `swapcase()`: Swaps cases, lower case becomes upper case and vice versa.\n",
        "42. `title()`: Converts the first character of each word to uppercase.\n",
        "43. `translate(table)`: Returns a translated string.\n",
        "44. `upper()`: Converts all characters to uppercase.\n",
        "45. `zfill(width)`: Fills the string with zeros until it reaches the specified length.'''"
      ],
      "metadata": {
        "id": "MiUGWV5Dwr5U"
      },
      "execution_count": null,
      "outputs": []
    },
    {
      "cell_type": "markdown",
      "source": [],
      "metadata": {
        "id": "lX7kHG8hbu16"
      }
    }
  ]
}
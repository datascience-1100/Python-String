{
  "nbformat": 4,
  "nbformat_minor": 0,
  "metadata": {
    "colab": {
      "provenance": [],
      "authorship_tag": "ABX9TyP3yvOii11bkhRtF3Z2+8RI",
      "include_colab_link": true
    },
    "kernelspec": {
      "name": "python3",
      "display_name": "Python 3"
    },
    "language_info": {
      "name": "python"
    }
  },
  "cells": [
    {
      "cell_type": "markdown",
      "metadata": {
        "id": "view-in-github",
        "colab_type": "text"
      },
      "source": [
        "<a href=\"https://colab.research.google.com/github/datascience-1100/Python-String/blob/main/Python_Strings.ipynb\" target=\"_parent\"><img src=\"https://colab.research.google.com/assets/colab-badge.svg\" alt=\"Open In Colab\"/></a>"
      ]
    },
    {
      "cell_type": "code",
      "execution_count": 39,
      "metadata": {
        "id": "jDlTJteLs8Q5"
      },
      "outputs": [],
      "source": [
        "#Python Strings"
      ]
    },
    {
      "cell_type": "code",
      "source": [
        "mystring=\"DataScience\"\n",
        "print(type(mystring))"
      ],
      "metadata": {
        "id": "73PmJA0IUSaL",
        "colab": {
          "base_uri": "https://localhost:8080/"
        },
        "outputId": "8c829e87-9fae-43cb-aa70-07c0e46bca39"
      },
      "execution_count": 40,
      "outputs": [
        {
          "output_type": "stream",
          "name": "stdout",
          "text": [
            "<class 'str'>\n"
          ]
        }
      ]
    },
    {
      "cell_type": "code",
      "source": [
        "mystring1=\"DataScience100\"\n",
        "print(type(mystring1))"
      ],
      "metadata": {
        "id": "jocCp4KdOsO4",
        "colab": {
          "base_uri": "https://localhost:8080/"
        },
        "outputId": "1c116d3a-9fa7-4dc8-9267-e7f5910ce857"
      },
      "execution_count": 41,
      "outputs": [
        {
          "output_type": "stream",
          "name": "stdout",
          "text": [
            "<class 'str'>\n"
          ]
        }
      ]
    },
    {
      "cell_type": "code",
      "source": [
        "mystring2=\"DataScience100@gmail.com\"\n",
        "print(type(mystring2))"
      ],
      "metadata": {
        "id": "zPaVUJhgOsaX",
        "colab": {
          "base_uri": "https://localhost:8080/"
        },
        "outputId": "ecfd7ad0-eed3-46b0-fbfc-e0fb1cfe8332"
      },
      "execution_count": 42,
      "outputs": [
        {
          "output_type": "stream",
          "name": "stdout",
          "text": [
            "<class 'str'>\n"
          ]
        }
      ]
    },
    {
      "cell_type": "code",
      "source": [
        "mystring3='1234'\n",
        "print(type(mystring3))"
      ],
      "metadata": {
        "id": "V7bFsBtxOsiL",
        "colab": {
          "base_uri": "https://localhost:8080/"
        },
        "outputId": "cb8f2d41-57e8-4b6b-f76d-e4b2c33a3394"
      },
      "execution_count": 43,
      "outputs": [
        {
          "output_type": "stream",
          "name": "stdout",
          "text": [
            "<class 'str'>\n"
          ]
        }
      ]
    },
    {
      "cell_type": "code",
      "source": [
        "mystring4=1234\n",
        "print(type(mystring4))"
      ],
      "metadata": {
        "id": "wurEFc5QOslx",
        "colab": {
          "base_uri": "https://localhost:8080/"
        },
        "outputId": "8ca41c85-2197-4e63-8c8b-bb149a5cc08d"
      },
      "execution_count": 44,
      "outputs": [
        {
          "output_type": "stream",
          "name": "stdout",
          "text": [
            "<class 'int'>\n"
          ]
        }
      ]
    },
    {
      "cell_type": "code",
      "source": [
        "mystring= 'I love Data Science'\n",
        "print(mystring)\n",
        "mystring= \"I love Data Science\"\n",
        "print(mystring)"
      ],
      "metadata": {
        "id": "Hkjx2qIsOsvA",
        "colab": {
          "base_uri": "https://localhost:8080/"
        },
        "outputId": "12db3cdd-702a-443c-c0c6-9ccb39228d0d"
      },
      "execution_count": 45,
      "outputs": [
        {
          "output_type": "stream",
          "name": "stdout",
          "text": [
            "I love Data Science\n",
            "I love Data Science\n"
          ]
        }
      ]
    },
    {
      "cell_type": "code",
      "source": [
        "#multiline string\n",
        "mystring= '''I love Data Science'''\n",
        "print(mystring)\n",
        "mystring= \"\"\"I love Data Science\"\"\"\n",
        "print(mystring)"
      ],
      "metadata": {
        "id": "X9Bm_8xePanI",
        "colab": {
          "base_uri": "https://localhost:8080/"
        },
        "outputId": "93573aa6-965e-442b-ac4a-adfeaa50fa6d"
      },
      "execution_count": 46,
      "outputs": [
        {
          "output_type": "stream",
          "name": "stdout",
          "text": [
            "I love Data Science\n",
            "I love Data Science\n"
          ]
        }
      ]
    },
    {
      "cell_type": "code",
      "source": [
        "#by default every input in Python is treated as a string\n",
        "mystring=int(input(\"Enter anything\"))\n",
        "print(mystring)\n",
        "print(type(mystring))"
      ],
      "metadata": {
        "colab": {
          "base_uri": "https://localhost:8080/"
        },
        "id": "bHGpDat1PdTt",
        "outputId": "76053b23-19fe-4fce-b66c-74c500c3697a"
      },
      "execution_count": 47,
      "outputs": [
        {
          "output_type": "stream",
          "name": "stdout",
          "text": [
            "Enter anything5\n",
            "5\n",
            "<class 'int'>\n"
          ]
        }
      ]
    },
    {
      "cell_type": "code",
      "source": [
        "#Indexing\n",
        "#Positive Indexing/Zero based Indexing\n",
        "mystring=\"Python\"\n",
        "mystring[0]\n",
        "mystring[2]"
      ],
      "metadata": {
        "id": "nMz6RZK-JSeC",
        "colab": {
          "base_uri": "https://localhost:8080/",
          "height": 35
        },
        "outputId": "32bd712e-57e5-4c5d-cf04-69ec475e0202"
      },
      "execution_count": 48,
      "outputs": [
        {
          "output_type": "execute_result",
          "data": {
            "text/plain": [
              "'t'"
            ],
            "application/vnd.google.colaboratory.intrinsic+json": {
              "type": "string"
            }
          },
          "metadata": {},
          "execution_count": 48
        }
      ]
    },
    {
      "cell_type": "code",
      "source": [
        "#Negative Indexing\n",
        "mystring[-3]"
      ],
      "metadata": {
        "colab": {
          "base_uri": "https://localhost:8080/",
          "height": 35
        },
        "id": "s5KaWFJ8PmUH",
        "outputId": "5e4482ed-619a-452d-c515-c72854f72d13"
      },
      "execution_count": 49,
      "outputs": [
        {
          "output_type": "execute_result",
          "data": {
            "text/plain": [
              "'h'"
            ],
            "application/vnd.google.colaboratory.intrinsic+json": {
              "type": "string"
            }
          },
          "metadata": {},
          "execution_count": 49
        }
      ]
    },
    {
      "cell_type": "code",
      "source": [
        "mystring[5]"
      ],
      "metadata": {
        "colab": {
          "base_uri": "https://localhost:8080/",
          "height": 35
        },
        "id": "T5RCLhMAWbsH",
        "outputId": "6517230f-e580-442b-cea2-250a797bb356"
      },
      "execution_count": 50,
      "outputs": [
        {
          "output_type": "execute_result",
          "data": {
            "text/plain": [
              "'n'"
            ],
            "application/vnd.google.colaboratory.intrinsic+json": {
              "type": "string"
            }
          },
          "metadata": {},
          "execution_count": 50
        }
      ]
    },
    {
      "cell_type": "code",
      "source": [
        "mystring[-1]"
      ],
      "metadata": {
        "colab": {
          "base_uri": "https://localhost:8080/",
          "height": 35
        },
        "id": "78raKasRWfFl",
        "outputId": "170c29d0-9de4-490c-f6ab-554ce63daa83"
      },
      "execution_count": 51,
      "outputs": [
        {
          "output_type": "execute_result",
          "data": {
            "text/plain": [
              "'n'"
            ],
            "application/vnd.google.colaboratory.intrinsic+json": {
              "type": "string"
            }
          },
          "metadata": {},
          "execution_count": 51
        }
      ]
    },
    {
      "cell_type": "code",
      "source": [
        "#Slicing\n",
        "#1. Basic Slicing\n",
        "mystring[1:4]\n",
        "#syntax[start index:end index]"
      ],
      "metadata": {
        "colab": {
          "base_uri": "https://localhost:8080/",
          "height": 35
        },
        "id": "h0zuQMzkPoty",
        "outputId": "b80e92d7-6f09-4bd7-d5e9-d04a1816640a"
      },
      "execution_count": 52,
      "outputs": [
        {
          "output_type": "execute_result",
          "data": {
            "text/plain": [
              "'yth'"
            ],
            "application/vnd.google.colaboratory.intrinsic+json": {
              "type": "string"
            }
          },
          "metadata": {},
          "execution_count": 52
        }
      ]
    },
    {
      "cell_type": "code",
      "source": [
        "mystring[1:]"
      ],
      "metadata": {
        "colab": {
          "base_uri": "https://localhost:8080/",
          "height": 35
        },
        "id": "LnYVN3kbQYfZ",
        "outputId": "cbad42bd-39f4-4b6d-d9ad-b89077406e87"
      },
      "execution_count": 53,
      "outputs": [
        {
          "output_type": "execute_result",
          "data": {
            "text/plain": [
              "'ython'"
            ],
            "application/vnd.google.colaboratory.intrinsic+json": {
              "type": "string"
            }
          },
          "metadata": {},
          "execution_count": 53
        }
      ]
    },
    {
      "cell_type": "code",
      "source": [
        "mystring[1:5]"
      ],
      "metadata": {
        "colab": {
          "base_uri": "https://localhost:8080/",
          "height": 35
        },
        "id": "wLg-eedsQA-5",
        "outputId": "385ccdf0-8061-40ca-94ee-950a151a531c"
      },
      "execution_count": 54,
      "outputs": [
        {
          "output_type": "execute_result",
          "data": {
            "text/plain": [
              "'ytho'"
            ],
            "application/vnd.google.colaboratory.intrinsic+json": {
              "type": "string"
            }
          },
          "metadata": {},
          "execution_count": 54
        }
      ]
    },
    {
      "cell_type": "code",
      "source": [
        "#Omitting the end\n",
        "mystring[1:]"
      ],
      "metadata": {
        "id": "aMlDPl_aQNvv",
        "colab": {
          "base_uri": "https://localhost:8080/",
          "height": 35
        },
        "outputId": "fe26455a-7814-4f81-d658-910a37bb7187"
      },
      "execution_count": 55,
      "outputs": [
        {
          "output_type": "execute_result",
          "data": {
            "text/plain": [
              "'ython'"
            ],
            "application/vnd.google.colaboratory.intrinsic+json": {
              "type": "string"
            }
          },
          "metadata": {},
          "execution_count": 55
        }
      ]
    },
    {
      "cell_type": "code",
      "source": [
        "#Omitting the start\n",
        "mystring[:5]"
      ],
      "metadata": {
        "colab": {
          "base_uri": "https://localhost:8080/",
          "height": 35
        },
        "id": "O6ysW985QcGp",
        "outputId": "c4256733-518c-4d01-eea1-6ccefdab3d72"
      },
      "execution_count": 56,
      "outputs": [
        {
          "output_type": "execute_result",
          "data": {
            "text/plain": [
              "'Pytho'"
            ],
            "application/vnd.google.colaboratory.intrinsic+json": {
              "type": "string"
            }
          },
          "metadata": {},
          "execution_count": 56
        }
      ]
    },
    {
      "cell_type": "code",
      "source": [
        "#Slicing with a step\n",
        "mystring[::2]"
      ],
      "metadata": {
        "colab": {
          "base_uri": "https://localhost:8080/",
          "height": 35
        },
        "id": "fRL3LS5XQerg",
        "outputId": "9d0968d4-b051-46ae-8d98-96dc7d22ae70"
      },
      "execution_count": 57,
      "outputs": [
        {
          "output_type": "execute_result",
          "data": {
            "text/plain": [
              "'Pto'"
            ],
            "application/vnd.google.colaboratory.intrinsic+json": {
              "type": "string"
            }
          },
          "metadata": {},
          "execution_count": 57
        }
      ]
    },
    {
      "cell_type": "code",
      "source": [
        "mystring[1:9:3]"
      ],
      "metadata": {
        "colab": {
          "base_uri": "https://localhost:8080/",
          "height": 35
        },
        "id": "QZepZ1UEQeu9",
        "outputId": "f3e0d17f-cf2b-4c9f-9085-956f42ad667a"
      },
      "execution_count": 58,
      "outputs": [
        {
          "output_type": "execute_result",
          "data": {
            "text/plain": [
              "'yo'"
            ],
            "application/vnd.google.colaboratory.intrinsic+json": {
              "type": "string"
            }
          },
          "metadata": {},
          "execution_count": 58
        }
      ]
    },
    {
      "cell_type": "code",
      "source": [
        "mystring[4]"
      ],
      "metadata": {
        "colab": {
          "base_uri": "https://localhost:8080/",
          "height": 35
        },
        "id": "Zy5fI0nQYNrF",
        "outputId": "e9a9ef6e-96e8-455f-efa3-67d8d0dd0c7e"
      },
      "execution_count": 59,
      "outputs": [
        {
          "output_type": "execute_result",
          "data": {
            "text/plain": [
              "'o'"
            ],
            "application/vnd.google.colaboratory.intrinsic+json": {
              "type": "string"
            }
          },
          "metadata": {},
          "execution_count": 59
        }
      ]
    },
    {
      "cell_type": "code",
      "source": [
        "#Slicing using Negative indexing\n",
        "#Basic Slicing\n",
        "mystring[-4:-1]"
      ],
      "metadata": {
        "colab": {
          "base_uri": "https://localhost:8080/",
          "height": 35
        },
        "id": "5E1bkQP1Qe1R",
        "outputId": "d6e0275b-415d-4e25-fea2-dc3135cf8035"
      },
      "execution_count": 60,
      "outputs": [
        {
          "output_type": "execute_result",
          "data": {
            "text/plain": [
              "'tho'"
            ],
            "application/vnd.google.colaboratory.intrinsic+json": {
              "type": "string"
            }
          },
          "metadata": {},
          "execution_count": 60
        }
      ]
    },
    {
      "cell_type": "code",
      "source": [
        "mystring[-6:-2]"
      ],
      "metadata": {
        "colab": {
          "base_uri": "https://localhost:8080/",
          "height": 35
        },
        "id": "qiRDb9zdYqzd",
        "outputId": "52a53c39-60dc-46d5-a81b-07de3bdcd3bb"
      },
      "execution_count": 61,
      "outputs": [
        {
          "output_type": "execute_result",
          "data": {
            "text/plain": [
              "'Pyth'"
            ],
            "application/vnd.google.colaboratory.intrinsic+json": {
              "type": "string"
            }
          },
          "metadata": {},
          "execution_count": 61
        }
      ]
    },
    {
      "cell_type": "code",
      "source": [
        "#Negative Slicing with a step size\n",
        "mystring[:-3:3]"
      ],
      "metadata": {
        "colab": {
          "base_uri": "https://localhost:8080/",
          "height": 35
        },
        "id": "Gj8_5rxbRt_p",
        "outputId": "559db746-56f0-47cc-e27e-a88dab26b236"
      },
      "execution_count": 62,
      "outputs": [
        {
          "output_type": "execute_result",
          "data": {
            "text/plain": [
              "'P'"
            ],
            "application/vnd.google.colaboratory.intrinsic+json": {
              "type": "string"
            }
          },
          "metadata": {},
          "execution_count": 62
        }
      ]
    },
    {
      "cell_type": "code",
      "source": [
        "mystring= \"Love Python\"\n",
        "mystring[-10::4]\n"
      ],
      "metadata": {
        "colab": {
          "base_uri": "https://localhost:8080/",
          "height": 35
        },
        "id": "P64QCN85Zsyk",
        "outputId": "401239fe-7592-4260-e188-d572b860ea1b"
      },
      "execution_count": 63,
      "outputs": [
        {
          "output_type": "execute_result",
          "data": {
            "text/plain": [
              "'oPo'"
            ],
            "application/vnd.google.colaboratory.intrinsic+json": {
              "type": "string"
            }
          },
          "metadata": {},
          "execution_count": 63
        }
      ]
    },
    {
      "cell_type": "code",
      "source": [
        "#Reverse a string\n",
        "mystring[-1:-7:-1]"
      ],
      "metadata": {
        "colab": {
          "base_uri": "https://localhost:8080/",
          "height": 35
        },
        "id": "MxtS2YqQeOTn",
        "outputId": "df5b1fd4-44d1-41e4-d9f7-374cb27af358"
      },
      "execution_count": 64,
      "outputs": [
        {
          "output_type": "execute_result",
          "data": {
            "text/plain": [
              "'nohtyP'"
            ],
            "application/vnd.google.colaboratory.intrinsic+json": {
              "type": "string"
            }
          },
          "metadata": {},
          "execution_count": 64
        }
      ]
    },
    {
      "cell_type": "code",
      "source": [
        "#Reverse the whole string\n",
        "mystring[::-1]\n"
      ],
      "metadata": {
        "colab": {
          "base_uri": "https://localhost:8080/",
          "height": 35
        },
        "id": "ppI7_KWCRqCs",
        "outputId": "72b63de4-f5c0-4535-d5ea-6ca1f5a8d491"
      },
      "execution_count": 65,
      "outputs": [
        {
          "output_type": "execute_result",
          "data": {
            "text/plain": [
              "'nohtyP evoL'"
            ],
            "application/vnd.google.colaboratory.intrinsic+json": {
              "type": "string"
            }
          },
          "metadata": {},
          "execution_count": 65
        }
      ]
    },
    {
      "cell_type": "code",
      "source": [
        "#Why do we need negative indexing??"
      ],
      "metadata": {
        "id": "O68RvYXQRswz"
      },
      "execution_count": 66,
      "outputs": []
    },
    {
      "cell_type": "code",
      "source": [
        "start_index=int(input(\"Enter the start index\"))\n",
        "end_index=int(input(\"Enter the end index\"))\n",
        "mystring[start_index:end_index]"
      ],
      "metadata": {
        "colab": {
          "base_uri": "https://localhost:8080/",
          "height": 70
        },
        "id": "m3gFz4Wefxj1",
        "outputId": "3fd3e62f-a7bb-41d0-a3e4-60b52af7cb05"
      },
      "execution_count": 67,
      "outputs": [
        {
          "name": "stdout",
          "output_type": "stream",
          "text": [
            "Enter the start index4\n",
            "Enter the end index6\n"
          ]
        },
        {
          "output_type": "execute_result",
          "data": {
            "text/plain": [
              "' P'"
            ],
            "application/vnd.google.colaboratory.intrinsic+json": {
              "type": "string"
            }
          },
          "metadata": {},
          "execution_count": 67
        }
      ]
    },
    {
      "cell_type": "code",
      "source": [],
      "metadata": {
        "id": "yTwBYCoKfxne"
      },
      "execution_count": 67,
      "outputs": []
    },
    {
      "cell_type": "code",
      "source": [
        "#Immutability- a string can never be edited\n",
        "#Editing a String\n",
        "str1=\"I love Python\"\n",
        "str1[0]='u'\n",
        "print(str1)\n"
      ],
      "metadata": {
        "id": "PSfMaNgWvWIn",
        "colab": {
          "base_uri": "https://localhost:8080/",
          "height": 193
        },
        "outputId": "2f849a7d-7808-4fcd-b643-fc6d3fb9acfe"
      },
      "execution_count": 69,
      "outputs": [
        {
          "output_type": "error",
          "ename": "TypeError",
          "evalue": "'str' object does not support item assignment",
          "traceback": [
            "\u001b[0;31m---------------------------------------------------------------------------\u001b[0m",
            "\u001b[0;31mTypeError\u001b[0m                                 Traceback (most recent call last)",
            "\u001b[0;32m<ipython-input-69-481d39630f12>\u001b[0m in \u001b[0;36m<cell line: 4>\u001b[0;34m()\u001b[0m\n\u001b[1;32m      2\u001b[0m \u001b[0;31m#Editing a String\u001b[0m\u001b[0;34m\u001b[0m\u001b[0;34m\u001b[0m\u001b[0m\n\u001b[1;32m      3\u001b[0m \u001b[0mstr1\u001b[0m\u001b[0;34m=\u001b[0m\u001b[0;34m\"I love Python\"\u001b[0m\u001b[0;34m\u001b[0m\u001b[0;34m\u001b[0m\u001b[0m\n\u001b[0;32m----> 4\u001b[0;31m \u001b[0mstr1\u001b[0m\u001b[0;34m[\u001b[0m\u001b[0;36m0\u001b[0m\u001b[0;34m]\u001b[0m\u001b[0;34m=\u001b[0m\u001b[0;34m'u'\u001b[0m\u001b[0;34m\u001b[0m\u001b[0;34m\u001b[0m\u001b[0m\n\u001b[0m\u001b[1;32m      5\u001b[0m \u001b[0mprint\u001b[0m\u001b[0;34m(\u001b[0m\u001b[0mstr1\u001b[0m\u001b[0;34m)\u001b[0m\u001b[0;34m\u001b[0m\u001b[0;34m\u001b[0m\u001b[0m\n",
            "\u001b[0;31mTypeError\u001b[0m: 'str' object does not support item assignment"
          ]
        }
      ]
    },
    {
      "cell_type": "code",
      "source": [
        "#Deleting a String\n",
        "print(str1)\n",
        "del str1\n",
        "print(str1)"
      ],
      "metadata": {
        "id": "iyKMd2DovYQC",
        "colab": {
          "base_uri": "https://localhost:8080/",
          "height": 193
        },
        "outputId": "8f716122-a469-4c45-d5e5-7e9a4a4a257a"
      },
      "execution_count": 70,
      "outputs": [
        {
          "output_type": "stream",
          "name": "stdout",
          "text": [
            "I love Python\n"
          ]
        },
        {
          "output_type": "error",
          "ename": "NameError",
          "evalue": "name 'str1' is not defined",
          "traceback": [
            "\u001b[0;31m---------------------------------------------------------------------------\u001b[0m",
            "\u001b[0;31mNameError\u001b[0m                                 Traceback (most recent call last)",
            "\u001b[0;32m<ipython-input-70-2485d509137d>\u001b[0m in \u001b[0;36m<cell line: 4>\u001b[0;34m()\u001b[0m\n\u001b[1;32m      2\u001b[0m \u001b[0mprint\u001b[0m\u001b[0;34m(\u001b[0m\u001b[0mstr1\u001b[0m\u001b[0;34m)\u001b[0m\u001b[0;34m\u001b[0m\u001b[0;34m\u001b[0m\u001b[0m\n\u001b[1;32m      3\u001b[0m \u001b[0;32mdel\u001b[0m \u001b[0mstr1\u001b[0m\u001b[0;34m\u001b[0m\u001b[0;34m\u001b[0m\u001b[0m\n\u001b[0;32m----> 4\u001b[0;31m \u001b[0mprint\u001b[0m\u001b[0;34m(\u001b[0m\u001b[0mstr1\u001b[0m\u001b[0;34m)\u001b[0m\u001b[0;34m\u001b[0m\u001b[0;34m\u001b[0m\u001b[0m\n\u001b[0m",
            "\u001b[0;31mNameError\u001b[0m: name 'str1' is not defined"
          ]
        }
      ]
    },
    {
      "cell_type": "code",
      "source": [
        "#Operators on String\n"
      ],
      "metadata": {
        "id": "-QL_wgFIvYVj"
      },
      "execution_count": 73,
      "outputs": []
    },
    {
      "cell_type": "code",
      "source": [
        "#Arithmetic Operator- +, *\n",
        "mystring1=\"I love\"\n",
        "mystring2=\"Python\"\n",
        "print(mystring1 + mystring2)\n",
        "print(mystring1*3)"
      ],
      "metadata": {
        "id": "Hhj1kGoSvYZO",
        "colab": {
          "base_uri": "https://localhost:8080/"
        },
        "outputId": "81443673-144d-4b70-bd65-ae1a39b245d0"
      },
      "execution_count": 74,
      "outputs": [
        {
          "output_type": "stream",
          "name": "stdout",
          "text": [
            "I lovePython\n",
            "I loveI loveI love\n"
          ]
        }
      ]
    },
    {
      "cell_type": "code",
      "source": [
        "#Appending String by additional Operator"
      ],
      "metadata": {
        "id": "Nc7CJsNj_8MX"
      },
      "execution_count": 75,
      "outputs": []
    },
    {
      "cell_type": "code",
      "source": [],
      "metadata": {
        "id": "QiEz7UDx_89M"
      },
      "execution_count": 75,
      "outputs": []
    },
    {
      "cell_type": "code",
      "source": [
        "#Relational Operators\n",
        "str1=\"Love\"\n",
        "str2=\"Python\"\n",
        "print(str1<str2)"
      ],
      "metadata": {
        "id": "CCAIc-Q1vl1v",
        "colab": {
          "base_uri": "https://localhost:8080/"
        },
        "outputId": "e5cd7ca8-6cd7-42c1-b112-d67f3321e902"
      },
      "execution_count": 76,
      "outputs": [
        {
          "output_type": "stream",
          "name": "stdout",
          "text": [
            "True\n"
          ]
        }
      ]
    },
    {
      "cell_type": "code",
      "source": [],
      "metadata": {
        "id": "2vaOTzZbvl5Q"
      },
      "execution_count": 76,
      "outputs": []
    },
    {
      "cell_type": "code",
      "source": [
        "#Membership Operator\n",
        "#in\n",
        "#Not in"
      ],
      "metadata": {
        "id": "QGqgQmH-voYV"
      },
      "execution_count": 78,
      "outputs": []
    },
    {
      "cell_type": "code",
      "source": [
        "a=['apple', 'banana', 'jack fruit', 'grapes']\n",
        "if 'apple' in a:\n",
        "   print(\"apple is a member\")\n",
        "else:\n",
        "  print(\"not a member\")"
      ],
      "metadata": {
        "id": "SuuhYu5nvob6",
        "colab": {
          "base_uri": "https://localhost:8080/"
        },
        "outputId": "72a9cb3a-143a-4330-f1d8-e046e00989af"
      },
      "execution_count": 79,
      "outputs": [
        {
          "output_type": "stream",
          "name": "stdout",
          "text": [
            "apple is a member\n"
          ]
        }
      ]
    },
    {
      "cell_type": "markdown",
      "source": [
        "1. Arithmetic Operator- +,*\n",
        "2. All the relational operators\n",
        "3. Membership Operators"
      ],
      "metadata": {
        "id": "tIcTgMuxMsp7"
      }
    },
    {
      "cell_type": "code",
      "source": [
        "#Basic Functions"
      ],
      "metadata": {
        "id": "YTUf4GShvw2g"
      },
      "execution_count": 80,
      "outputs": []
    },
    {
      "cell_type": "code",
      "source": [
        "#len()\n",
        "str1= \"I love Python\"\n",
        "len(str1)"
      ],
      "metadata": {
        "id": "LiKfdlxyvw5-",
        "colab": {
          "base_uri": "https://localhost:8080/"
        },
        "outputId": "62d384ff-dfc3-4e83-bfe1-79393be10cec"
      },
      "execution_count": 81,
      "outputs": [
        {
          "output_type": "execute_result",
          "data": {
            "text/plain": [
              "13"
            ]
          },
          "metadata": {},
          "execution_count": 81
        }
      ]
    },
    {
      "cell_type": "code",
      "source": [
        "#max()\n",
        "a=['apple', 'banana', 'jack fruit', 'grapes']\n",
        "print(max(a))\n"
      ],
      "metadata": {
        "id": "bARIjSDcv3lc",
        "colab": {
          "base_uri": "https://localhost:8080/"
        },
        "outputId": "86bcb96f-5260-4da3-ff4f-b543d27db353"
      },
      "execution_count": 82,
      "outputs": [
        {
          "output_type": "stream",
          "name": "stdout",
          "text": [
            "jack fruit\n"
          ]
        }
      ]
    },
    {
      "cell_type": "code",
      "source": [
        "#min()\n",
        "print(min(a))"
      ],
      "metadata": {
        "id": "L1QOaDj5v7mn",
        "colab": {
          "base_uri": "https://localhost:8080/"
        },
        "outputId": "1e36e85a-4ee4-4eaa-d417-0726a616f5a7"
      },
      "execution_count": 83,
      "outputs": [
        {
          "output_type": "stream",
          "name": "stdout",
          "text": [
            "apple\n"
          ]
        }
      ]
    },
    {
      "cell_type": "code",
      "source": [
        "#sorted()\n",
        "str1='PYTHON'\n",
        "print(sorted(str1))"
      ],
      "metadata": {
        "id": "u2g12H3lv71W",
        "colab": {
          "base_uri": "https://localhost:8080/"
        },
        "outputId": "8f298d58-2edf-4d91-ca02-9870eeb1dc0f"
      },
      "execution_count": 102,
      "outputs": [
        {
          "output_type": "stream",
          "name": "stdout",
          "text": [
            "['H', 'N', 'O', 'P', 'T', 'Y']\n"
          ]
        }
      ]
    },
    {
      "cell_type": "code",
      "source": [
        "#capitalize()\n",
        "str1=\"i love python\"\n",
        "print(str1.capitalize())"
      ],
      "metadata": {
        "id": "34pjbWzUwF3C",
        "colab": {
          "base_uri": "https://localhost:8080/"
        },
        "outputId": "7cc2b7b1-d028-42f1-fe6f-49f6d92cdfa6"
      },
      "execution_count": 103,
      "outputs": [
        {
          "output_type": "stream",
          "name": "stdout",
          "text": [
            "I love python\n"
          ]
        }
      ]
    },
    {
      "cell_type": "code",
      "source": [
        "#title()\n",
        "str1=\"i love python\"\n",
        "print(str1.title())"
      ],
      "metadata": {
        "colab": {
          "base_uri": "https://localhost:8080/"
        },
        "id": "g9xQAq75QDIs",
        "outputId": "097add4b-47dc-47a6-ce8c-1e9f2bf9dcb6"
      },
      "execution_count": 86,
      "outputs": [
        {
          "output_type": "stream",
          "name": "stdout",
          "text": [
            "I Love Python\n"
          ]
        }
      ]
    },
    {
      "cell_type": "code",
      "source": [
        "#upper()\n",
        "str1=\"i love python\"\n",
        "print(str1.upper())\n"
      ],
      "metadata": {
        "colab": {
          "base_uri": "https://localhost:8080/"
        },
        "id": "A3Dwg9qEQDLm",
        "outputId": "a3a56a13-8f8e-462a-dde0-7a937354b273"
      },
      "execution_count": 87,
      "outputs": [
        {
          "output_type": "stream",
          "name": "stdout",
          "text": [
            "I LOVE PYTHON\n"
          ]
        }
      ]
    },
    {
      "cell_type": "code",
      "source": [
        "#lower()\n",
        "str2=\"I LOVE PYThon\"\n",
        "print(str2.lower())\n",
        "print(str2)"
      ],
      "metadata": {
        "id": "VMhgPg9HwF6d",
        "colab": {
          "base_uri": "https://localhost:8080/"
        },
        "outputId": "fd7d86c6-08a2-41ee-9aa6-b78cde99f1a5"
      },
      "execution_count": 88,
      "outputs": [
        {
          "output_type": "stream",
          "name": "stdout",
          "text": [
            "i love python\n",
            "I LOVE PYThon\n"
          ]
        }
      ]
    },
    {
      "cell_type": "code",
      "source": [
        "#swapcase()\n",
        "str1=\"I love pytHON\"\n",
        "print(str1.swapcase())"
      ],
      "metadata": {
        "id": "rj9fCDkSwJtF",
        "colab": {
          "base_uri": "https://localhost:8080/"
        },
        "outputId": "935a3455-bda9-4d0a-bd33-9bf9ccfe7bc7"
      },
      "execution_count": 89,
      "outputs": [
        {
          "output_type": "stream",
          "name": "stdout",
          "text": [
            "i LOVE PYThon\n"
          ]
        }
      ]
    },
    {
      "cell_type": "code",
      "source": [
        "#count\n",
        "str1=\"I love love Python\"\n",
        "print(str1.count(\"love\"))"
      ],
      "metadata": {
        "id": "HRjRvxYPwMDd",
        "colab": {
          "base_uri": "https://localhost:8080/"
        },
        "outputId": "c08306dd-b241-4aa8-b24d-6c6ccae11f05"
      },
      "execution_count": 90,
      "outputs": [
        {
          "output_type": "stream",
          "name": "stdout",
          "text": [
            "2\n"
          ]
        }
      ]
    },
    {
      "cell_type": "code",
      "source": [
        "#find- gives the index position of any given word\n",
        "str1=\"I love Python\"\n",
        "print(str1.find(\"Python\"))\n"
      ],
      "metadata": {
        "id": "d1zGET7fwWy6",
        "colab": {
          "base_uri": "https://localhost:8080/"
        },
        "outputId": "8796d77d-8bb6-4a1c-c072-d062fac438a5"
      },
      "execution_count": 91,
      "outputs": [
        {
          "output_type": "stream",
          "name": "stdout",
          "text": [
            "7\n"
          ]
        }
      ]
    },
    {
      "cell_type": "code",
      "source": [
        "#startswith\n",
        "str1= \"I love Python\"\n",
        "print(str1. startswith(\"I love\"))"
      ],
      "metadata": {
        "id": "caz5ioCKwW5b",
        "colab": {
          "base_uri": "https://localhost:8080/"
        },
        "outputId": "fa3741cf-686f-4d97-8e10-cb2d849cf977"
      },
      "execution_count": 92,
      "outputs": [
        {
          "output_type": "stream",
          "name": "stdout",
          "text": [
            "True\n"
          ]
        }
      ]
    },
    {
      "cell_type": "code",
      "source": [
        "#endswith\n",
        "str1= \"I love Python\"\n",
        "print(str1.endswith(\"python\"))"
      ],
      "metadata": {
        "colab": {
          "base_uri": "https://localhost:8080/"
        },
        "id": "fpJAkTpuVj6j",
        "outputId": "417545b5-4196-4057-d126-c7193c0b32ab"
      },
      "execution_count": 93,
      "outputs": [
        {
          "output_type": "stream",
          "name": "stdout",
          "text": [
            "False\n"
          ]
        }
      ]
    },
    {
      "cell_type": "code",
      "source": [
        "#isalnum()- alphabet numeric\n",
        "str1= \"100\"\n",
        "print(str1.isalnum())"
      ],
      "metadata": {
        "colab": {
          "base_uri": "https://localhost:8080/"
        },
        "id": "VzjNclmRWpdh",
        "outputId": "7b18ba1a-4eac-4772-c541-10f41175bf58"
      },
      "execution_count": 94,
      "outputs": [
        {
          "output_type": "stream",
          "name": "stdout",
          "text": [
            "True\n"
          ]
        }
      ]
    },
    {
      "cell_type": "code",
      "source": [
        "#isdigit()\n",
        "str1= \"1009937986327845237\"\n",
        "print(str1.isdigit())"
      ],
      "metadata": {
        "id": "O8amFhSewdtu",
        "colab": {
          "base_uri": "https://localhost:8080/"
        },
        "outputId": "4177d52e-af01-4e13-c328-aff9620b6d5d"
      },
      "execution_count": 95,
      "outputs": [
        {
          "output_type": "stream",
          "name": "stdout",
          "text": [
            "True\n"
          ]
        }
      ]
    },
    {
      "cell_type": "code",
      "source": [
        "#split()\n",
        "str1= \"I, love/ Python so, much\"\n",
        "print(str1.split(' '))"
      ],
      "metadata": {
        "id": "wutAqCfzwg_O",
        "colab": {
          "base_uri": "https://localhost:8080/"
        },
        "outputId": "d4387638-88a7-40bb-a638-6b30d3ba9ed6"
      },
      "execution_count": 96,
      "outputs": [
        {
          "output_type": "stream",
          "name": "stdout",
          "text": [
            "['I,', 'love/', 'Python', 'so,', 'much']\n"
          ]
        }
      ]
    },
    {
      "cell_type": "code",
      "source": [
        "#join()\n",
        "str1=['I ', 'love', 'DataScience']\n",
        "sentence= '0'.join(str1)\n",
        "print(sentence)"
      ],
      "metadata": {
        "id": "OmGZPZ-1wofx",
        "colab": {
          "base_uri": "https://localhost:8080/"
        },
        "outputId": "3db139e7-1351-457a-836b-99adcde89ad5"
      },
      "execution_count": 97,
      "outputs": [
        {
          "output_type": "stream",
          "name": "stdout",
          "text": [
            "I 0love0DataScience\n"
          ]
        }
      ]
    },
    {
      "cell_type": "code",
      "source": [
        "#replace\n",
        "str1=\"I love Python\"\n",
        "print(str1.replace(\"I\", \"He\"))\n",
        "print(str1)"
      ],
      "metadata": {
        "colab": {
          "base_uri": "https://localhost:8080/"
        },
        "id": "6u_MT9e2ZqVY",
        "outputId": "95084e5b-f609-4a9c-ecd8-44964e1db2a7"
      },
      "execution_count": 98,
      "outputs": [
        {
          "output_type": "stream",
          "name": "stdout",
          "text": [
            "He love Python\n",
            "I love Python\n"
          ]
        }
      ]
    },
    {
      "cell_type": "code",
      "source": [
        "#strip\n",
        "str1= \"       I     love    Python       \"\n",
        "print(str1.strip())"
      ],
      "metadata": {
        "colab": {
          "base_uri": "https://localhost:8080/"
        },
        "id": "7qWxGtN7Zqb6",
        "outputId": "36fa5b96-6ab3-4435-f9e6-c9cdd1e95b81"
      },
      "execution_count": 99,
      "outputs": [
        {
          "output_type": "stream",
          "name": "stdout",
          "text": [
            "I     love    Python\n"
          ]
        }
      ]
    },
    {
      "cell_type": "code",
      "source": [
        "''''\n",
        "1. `capitalize()`: Converts the first character to uppercase.\n",
        "2. `casefold()`: Converts string into lowercase.\n",
        "3. `center(width[, fillchar])`: Returns a centered string.\n",
        "4. `count(sub[, start[, end]])`: Returns the number of occurrences of substring sub in the range [start, end].\n",
        "5. `encode(encoding='utf-8', errors='strict')`: Returns encoded string version of string.\n",
        "6. `endswith(suffix[, start[, end]])`: Checks if string ends with the specified suffix.\n",
        "7. `expandtabs(tabsize=8)`: Replaces tabs with spaces.\n",
        "8. `find(sub[, start[, end]])`: Returns the lowest index of substring sub.\n",
        "9. `format(*args, **kwargs)`: Formats string into a nicer output.\n",
        "10. `format_map(mapping)`: Formats the string using the mapping.\n",
        "11. `index(sub[, start[, end]])`: Like find(), but raises ValueError if not found.\n",
        "12. `isalnum()`: Returns True if all characters are alphanumeric.\n",
        "13. `isalpha()`: Returns True if all characters are alphabetic.\n",
        "14. `isascii()`: Returns True if all characters are ASCII.\n",
        "15. `isdecimal()`: Returns True if all characters are decimals.\n",
        "16. `isdigit()`: Returns True if all characters are digits.\n",
        "17. `isidentifier()`: Returns True if the string is a valid identifier.\n",
        "18. `islower()`: Returns True if all characters are lowercase.\n",
        "19. `isnumeric()`: Returns True if all characters are numeric.\n",
        "20. `isprintable()`: Returns True if all characters are printable.\n",
        "21. `isspace()`: Returns True if all characters are whitespace.\n",
        "22. `istitle()`: Returns True if the string is a titlecased string.\n",
        "23. `isupper()`: Returns True if all characters are uppercase.\n",
        "24. `join(iterable)`: Joins elements of an iterable with string as separator.\n",
        "25. `ljust(width[, fillchar])`: Returns a left-justified string.\n",
        "26. `lower()`: Converts all characters to lowercase.\n",
        "27. `lstrip([chars])`: Removes leading characters.\n",
        "28. `maketrans(x[, y[, z]])`: Returns a translation table.\n",
        "29. `partition(sep)`: Returns a tuple where string is parted into three parts.\n",
        "30. `replace(old, new[, count])`: Replaces occurrences of old with new.\n",
        "31. `rfind(sub[, start[, end]])`: Returns the highest index of substring sub.\n",
        "32. `rindex(sub[, start[, end]])`: Like rfind(), but raises ValueError if not found.\n",
        "33. `rjust(width[, fillchar])`: Returns a right-justified string.\n",
        "34. `rpartition(sep)`: Returns a tuple where string is parted into three parts.\n",
        "35. `rsplit([sep[, maxsplit]])`: Splits string from the right.\n",
        "36. `rstrip([chars])`: Removes trailing characters.\n",
        "37. `split([sep[, maxsplit]])`: Splits the string at the specified separator.\n",
        "38. `splitlines([keepends])`: Splits the string at line breaks.\n",
        "39. `startswith(prefix[, start[, end]])`: Checks if string starts with the specified prefix.\n",
        "40. `strip([chars])`: Removes leading and trailing characters.\n",
        "41. `swapcase()`: Swaps cases, lower case becomes upper case and vice versa.\n",
        "42. `title()`: Converts the first character of each word to uppercase.\n",
        "43. `translate(table)`: Returns a translated string.\n",
        "44. `upper()`: Converts all characters to uppercase.\n",
        "45. `zfill(width)`: Fills the string with zeros until it reaches the specified length.'''"
      ],
      "metadata": {
        "id": "MiUGWV5Dwr5U",
        "colab": {
          "base_uri": "https://localhost:8080/",
          "height": 156
        },
        "outputId": "b46dfeed-9548-4b92-a32b-8d5648f6b384"
      },
      "execution_count": 100,
      "outputs": [
        {
          "output_type": "execute_result",
          "data": {
            "text/plain": [
              "\"'\\n1. `capitalize()`: Converts the first character to uppercase.\\n2. `casefold()`: Converts string into lowercase.\\n3. `center(width[, fillchar])`: Returns a centered string.\\n4. `count(sub[, start[, end]])`: Returns the number of occurrences of substring sub in the range [start, end].\\n5. `encode(encoding='utf-8', errors='strict')`: Returns encoded string version of string.\\n6. `endswith(suffix[, start[, end]])`: Checks if string ends with the specified suffix.\\n7. `expandtabs(tabsize=8)`: Replaces tabs with spaces.\\n8. `find(sub[, start[, end]])`: Returns the lowest index of substring sub.\\n9. `format(*args, **kwargs)`: Formats string into a nicer output.\\n10. `format_map(mapping)`: Formats the string using the mapping.\\n11. `index(sub[, start[, end]])`: Like find(), but raises ValueError if not found.\\n12. `isalnum()`: Returns True if all characters are alphanumeric.\\n13. `isalpha()`: Returns True if all characters are alphabetic.\\n14. `isascii()`: Returns True if all characters are ASCII.\\n15. `isdecimal()`: Returns True if all characters are decimals.\\n16. `isdigit()`: Returns True if all characters are digits.\\n17. `isidentifier()`: Returns True if the string is a valid identifier.\\n18. `islower()`: Returns True if all characters are lowercase.\\n19. `isnumeric()`: Returns True if all characters are numeric.\\n20. `isprintable()`: Returns True if all characters are printable.\\n21. `isspace()`: Returns True if all characters are whitespace.\\n22. `istitle()`: Returns True if the string is a titlecased string.\\n23. `isupper()`: Returns True if all characters are uppercase.\\n24. `join(iterable)`: Joins elements of an iterable with string as separator.\\n25. `ljust(width[, fillchar])`: Returns a left-justified string.\\n26. `lower()`: Converts all characters to lowercase.\\n27. `lstrip([chars])`: Removes leading characters.\\n28. `maketrans(x[, y[, z]])`: Returns a translation table.\\n29. `partition(sep)`: Returns a tuple where string is parted into three parts.\\n30. `replace(old, new[, count])`: Replaces occurrences of old with new.\\n31. `rfind(sub[, start[, end]])`: Returns the highest index of substring sub.\\n32. `rindex(sub[, start[, end]])`: Like rfind(), but raises ValueError if not found.\\n33. `rjust(width[, fillchar])`: Returns a right-justified string.\\n34. `rpartition(sep)`: Returns a tuple where string is parted into three parts.\\n35. `rsplit([sep[, maxsplit]])`: Splits string from the right.\\n36. `rstrip([chars])`: Removes trailing characters.\\n37. `split([sep[, maxsplit]])`: Splits the string at the specified separator.\\n38. `splitlines([keepends])`: Splits the string at line breaks.\\n39. `startswith(prefix[, start[, end]])`: Checks if string starts with the specified prefix.\\n40. `strip([chars])`: Removes leading and trailing characters.\\n41. `swapcase()`: Swaps cases, lower case becomes upper case and vice versa.\\n42. `title()`: Converts the first character of each word to uppercase.\\n43. `translate(table)`: Returns a translated string.\\n44. `upper()`: Converts all characters to uppercase.\\n45. `zfill(width)`: Fills the string with zeros until it reaches the specified length.\""
            ],
            "application/vnd.google.colaboratory.intrinsic+json": {
              "type": "string"
            }
          },
          "metadata": {},
          "execution_count": 100
        }
      ]
    },
    {
      "cell_type": "markdown",
      "source": [],
      "metadata": {
        "id": "lX7kHG8hbu16"
      }
    }
  ]
}